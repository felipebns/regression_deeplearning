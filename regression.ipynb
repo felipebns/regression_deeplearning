{
 "cells": [
  {
   "cell_type": "markdown",
   "id": "59cd2d31",
   "metadata": {},
   "source": [
    "# Regressão - Previsão do valor de um ativo no dia seguinte\n",
    "\n",
    "## Autores\n",
    "- Felipe Bakowski Nantes de Souza  \n",
    "- Vinicius Grecco Fonseca Mulato  \n",
    "- Victor Soares\n"
   ]
  },
  {
   "cell_type": "markdown",
   "id": "f28e25ad",
   "metadata": {},
   "source": [
    "# 1.    Data set - Seleção"
   ]
  },
  {
   "cell_type": "markdown",
   "id": "75e27d33",
   "metadata": {},
   "source": [
    "Usamos a biblioteca **yfinance** para baixar dados históricos de ações da Apple (AAPL) dos últimos 10 anos. O dataset contém dados diários de preços (abertura, máxima, mínima, fechamento) e volume negociado."
   ]
  },
  {
   "cell_type": "code",
   "execution_count": null,
   "id": "b7f57ef2",
   "metadata": {},
   "outputs": [
    {
     "name": "stderr",
     "output_type": "stream",
     "text": [
      "[*********************100%***********************]  1 of 1 completed"
     ]
    },
    {
     "name": "stdout",
     "output_type": "stream",
     "text": [
      "Shape: (2515, 5)\n"
     ]
    },
    {
     "name": "stderr",
     "output_type": "stream",
     "text": [
      "\n"
     ]
    },
    {
     "data": {
      "text/html": [
       "<div>\n",
       "<style scoped>\n",
       "    .dataframe tbody tr th:only-of-type {\n",
       "        vertical-align: middle;\n",
       "    }\n",
       "\n",
       "    .dataframe tbody tr th {\n",
       "        vertical-align: top;\n",
       "    }\n",
       "\n",
       "    .dataframe thead tr th {\n",
       "        text-align: left;\n",
       "    }\n",
       "\n",
       "    .dataframe thead tr:last-of-type th {\n",
       "        text-align: right;\n",
       "    }\n",
       "</style>\n",
       "<table border=\"1\" class=\"dataframe\">\n",
       "  <thead>\n",
       "    <tr>\n",
       "      <th>Price</th>\n",
       "      <th>Close</th>\n",
       "      <th>High</th>\n",
       "      <th>Low</th>\n",
       "      <th>Open</th>\n",
       "      <th>Volume</th>\n",
       "    </tr>\n",
       "    <tr>\n",
       "      <th>Ticker</th>\n",
       "      <th>AAPL</th>\n",
       "      <th>AAPL</th>\n",
       "      <th>AAPL</th>\n",
       "      <th>AAPL</th>\n",
       "      <th>AAPL</th>\n",
       "    </tr>\n",
       "    <tr>\n",
       "      <th>Date</th>\n",
       "      <th></th>\n",
       "      <th></th>\n",
       "      <th></th>\n",
       "      <th></th>\n",
       "      <th></th>\n",
       "    </tr>\n",
       "  </thead>\n",
       "  <tbody>\n",
       "    <tr>\n",
       "      <th>2015-10-21</th>\n",
       "      <td>25.564783</td>\n",
       "      <td>25.973784</td>\n",
       "      <td>25.551298</td>\n",
       "      <td>25.618717</td>\n",
       "      <td>167180800</td>\n",
       "    </tr>\n",
       "    <tr>\n",
       "      <th>2015-10-22</th>\n",
       "      <td>25.955803</td>\n",
       "      <td>25.955803</td>\n",
       "      <td>25.641187</td>\n",
       "      <td>25.692874</td>\n",
       "      <td>166616400</td>\n",
       "    </tr>\n",
       "    <tr>\n",
       "      <th>2015-10-23</th>\n",
       "      <td>26.760319</td>\n",
       "      <td>26.794028</td>\n",
       "      <td>26.142323</td>\n",
       "      <td>26.225471</td>\n",
       "      <td>237467600</td>\n",
       "    </tr>\n",
       "    <tr>\n",
       "      <th>2015-10-26</th>\n",
       "      <td>25.906368</td>\n",
       "      <td>26.546836</td>\n",
       "      <td>25.825467</td>\n",
       "      <td>26.535601</td>\n",
       "      <td>265335200</td>\n",
       "    </tr>\n",
       "    <tr>\n",
       "      <th>2015-10-27</th>\n",
       "      <td>25.742315</td>\n",
       "      <td>26.189519</td>\n",
       "      <td>25.616468</td>\n",
       "      <td>25.933332</td>\n",
       "      <td>279537600</td>\n",
       "    </tr>\n",
       "  </tbody>\n",
       "</table>\n",
       "</div>"
      ],
      "text/plain": [
       "Price           Close       High        Low       Open     Volume\n",
       "Ticker           AAPL       AAPL       AAPL       AAPL       AAPL\n",
       "Date                                                             \n",
       "2015-10-21  25.564783  25.973784  25.551298  25.618717  167180800\n",
       "2015-10-22  25.955803  25.955803  25.641187  25.692874  166616400\n",
       "2015-10-23  26.760319  26.794028  26.142323  26.225471  237467600\n",
       "2015-10-26  25.906368  26.546836  25.825467  26.535601  265335200\n",
       "2015-10-27  25.742315  26.189519  25.616468  25.933332  279537600"
      ]
     },
     "execution_count": 21,
     "metadata": {},
     "output_type": "execute_result"
    }
   ],
   "source": [
    "from matplotlib.ticker import FuncFormatter\n",
    "import matplotlib.pyplot as plt\n",
    "import pandas as pd\n",
    "import numpy as np\n",
    "import yfinance as yf\n",
    "import seaborn as sns\n",
    "\n",
    "# baixar dados da Apple dos últimos 10 anos\n",
    "df = yf.download(\"AAPL\", period=\"10y\", interval=\"1d\", auto_adjust=True)\n",
    "print(\"Shape:\", df.shape)\n",
    "df.head()"
   ]
  },
  {
   "cell_type": "markdown",
   "id": "7fd461a3",
   "metadata": {},
   "source": [
    "# 2. Data set - Explicação"
   ]
  },
  {
   "cell_type": "markdown",
   "id": "345a2857",
   "metadata": {},
   "source": [
    "O `DataFrame` `df` reúne cotações diárias da Apple (ticker `AAPL`) obtidas via `yfinance` para os últimos 10 anos (`period=\"10y\"`, `interval=\"1d\"`). A coluna de índice (`Date`) marca cada pregão. A partir das séries básicas (`Open`, `High`, `Low`, `Close`, `Volume`) derivaram‑se as features abaixo:\n",
    "\n",
    "- `Price_Range`: `High - Low`. Medida de volatilidade intraday.  \n",
    "- `Price_Change`: `Close - Open`. Variação diária absoluta (momentum do dia).  \n",
    "- `High_Low_Ratio`: `High / Low`. Proporção de amplitude do dia (volatilidade relativa).  \n",
    "- `Return_1d`, `Return_3d`, `Return_5d`, `Return_10d`: retornos percentuais em janelas 1/3/5/10 dias. Capturam momentum em diferentes horizontes.  \n",
    "- `MA_5`, `MA_10`, `MA_20`, `MA_50`: médias móveis do preço de fechamento (suavização de tendência).  \n",
    "- `Volatility_5`, `Volatility_10`, `Volatility_20`: desvio padrão móvel do fechamento (risco/instabilidade em janelas distintas).  \n",
    "- `Volume_MA_5`, `Volume_MA_10`: médias móveis do volume (interesse de mercado suavizado).  \n",
    "- `BB_Middle`, `BB_Upper`, `BB_Lower`, `BB_Width`: bandas de Bollinger (MA_20 ± 2·Volatility_20) e largura (volatilidade implícita).  \n",
    "- `RSI`: índice de força relativa (14 dias), indicador de sobrecompra/sobrevenda.  \n",
    "- `MACD`, `MACD_Signal`, `MACD_Histogram`: MACD (EMA12−EMA26), sua linha de sinal (EMA9) e histograma (força do momentum).  \n",
    "- `Momentum_5`, `Momentum_10`: diferença absoluta do fechamento em 5 e 10 dias (velocidade da variação).  \n",
    "- `ROC_5`, `ROC_10`: rate of change (%) em 5 e 10 dias (retorno percentual em diferentes janelas).  \n",
    "- `Target`: `Close.shift(-1)` — preço de fechamento do próximo dia (variável alvo).\n",
    "\n",
    "Essas features procuram capturar preço, volume, volatilidade e momentum em múltiplas escalas temporais. O objetivo é treinar uma rede neural capaz de estimar o preço de fechamento (`Close`) do dia seguinte a partir desse histórico."
   ]
  },
  {
   "cell_type": "markdown",
   "id": "75301cb9",
   "metadata": {},
   "source": [
    "## Criação de novas features"
   ]
  },
  {
   "cell_type": "code",
   "execution_count": null,
   "id": "827cf2d2",
   "metadata": {},
   "outputs": [],
   "source": [
    "print(\"\\n[3] CRIANDO FEATURES AVANÇADAS...\")\n",
    "\n",
    "# Features baseadas em preço\n",
    "df['Price_Range'] = df['High'] - df['Low']  # Volatilidade intraday\n",
    "df['Price_Change'] = df['Close'] - df['Open']  # Mudança diária\n",
    "df['High_Low_Ratio'] = df['High'] / df['Low']  # Razão high/low\n",
    "\n",
    "# Retornos percentuais\n",
    "df['Return_1d'] = df['Close'].pct_change(1)  # Retorno de 1 dia\n",
    "df['Return_3d'] = df['Close'].pct_change(3)  # Retorno de 3 dias\n",
    "df['Return_5d'] = df['Close'].pct_change(5)  # Retorno de 5 dias\n",
    "df['Return_10d'] = df['Close'].pct_change(10)  # Retorno de 10 dias\n",
    "\n",
    "# Médias móveis\n",
    "df['MA_5'] = df['Close'].rolling(window=5).mean()\n",
    "df['MA_10'] = df['Close'].rolling(window=10).mean()\n",
    "df['MA_20'] = df['Close'].rolling(window=20).mean()\n",
    "df['MA_50'] = df['Close'].rolling(window=50).mean()\n",
    "\n",
    "# Desvio padrão móvel (volatilidade)\n",
    "df['Volatility_5'] = df['Close'].rolling(window=5).std()\n",
    "df['Volatility_10'] = df['Close'].rolling(window=10).std()\n",
    "df['Volatility_20'] = df['Close'].rolling(window=20).std()\n",
    "\n",
    "# Média móvel do volume\n",
    "df['Volume_MA_5'] = df['Volume'].rolling(window=5).mean()\n",
    "df['Volume_MA_10'] = df['Volume'].rolling(window=10).mean()\n",
    "\n",
    "# Bandas de Bollinger (simplificadas)\n",
    "df['BB_Middle'] = df['MA_20']\n",
    "df['BB_Upper'] = df['MA_20'] + 2 * df['Volatility_20']\n",
    "df['BB_Lower'] = df['MA_20'] - 2 * df['Volatility_20']\n",
    "df['BB_Width'] = df['BB_Upper'] - df['BB_Lower']\n",
    "\n",
    "# RSI simplificado (Relative Strength Index)\n",
    "delta = df['Close'].diff()\n",
    "gain = delta.where(delta > 0, 0).rolling(window=14).mean()\n",
    "loss = -delta.where(delta < 0, 0).rolling(window=14).mean()\n",
    "rs = gain / loss\n",
    "df['RSI'] = 100 - (100 / (1 + rs))\n",
    "\n",
    "# MACD (Moving Average Convergence Divergence)\n",
    "exp1 = df['Close'].ewm(span=12, adjust=False).mean()\n",
    "exp2 = df['Close'].ewm(span=26, adjust=False).mean()\n",
    "df['MACD'] = exp1 - exp2\n",
    "df['MACD_Signal'] = df['MACD'].ewm(span=9, adjust=False).mean()\n",
    "df['MACD_Histogram'] = df['MACD'] - df['MACD_Signal']\n",
    "\n",
    "# Features de momentum\n",
    "df['Momentum_5'] = df['Close'] - df['Close'].shift(5)\n",
    "df['Momentum_10'] = df['Close'] - df['Close'].shift(10)\n",
    "\n",
    "# Rate of Change (ROC)\n",
    "df['ROC_5'] = ((df['Close'] - df['Close'].shift(5)) / df['Close'].shift(5)) * 100\n",
    "df['ROC_10'] = ((df['Close'] - df['Close'].shift(10)) / df['Close'].shift(10)) * 100\n",
    "\n",
    "# Target: Preço de fechamento do próximo dia\n",
    "df['Target'] = df['Close'].shift(-1)\n",
    "\n",
    "print(f\"Shape final após feature engineering: {df.shape}\")\n",
    "print(f\"Total de features criadas: {df.shape[1] - 3}\")  # -3 para Date, Close original e Target"
   ]
  },
  {
   "cell_type": "markdown",
   "id": "cab8e458",
   "metadata": {},
   "source": [
    "## Crescimento da ação ao longo do tempo"
   ]
  },
  {
   "cell_type": "markdown",
   "id": "a0df1751",
   "metadata": {},
   "source": [
    "# NOTA: COLOCAR TESTE DE HIPOTESE PARA VERIFICAR NORMALIDADE"
   ]
  },
  {
   "cell_type": "code",
   "execution_count": 23,
   "id": "1950ccd2",
   "metadata": {},
   "outputs": [
    {
     "data": {
      "image/png": "[encoded data removed]",
      "text/plain": [
       "<Figure size 1400x500 with 1 Axes>"
      ]
     },
     "metadata": {},
     "output_type": "display_data"
    }
   ],
   "source": [
    "plt.figure(figsize=(14,5))\n",
    "plt.plot(df.index, df['Close'], label='Close Price')\n",
    "plt.title('Apple Stock - Close Price (10 anos)')\n",
    "plt.xlabel('Data')\n",
    "plt.ylabel('Preço (USD)')\n",
    "plt.legend()\n",
    "plt.grid(True)\n",
    "plt.show()"
   ]
  },
  {
   "cell_type": "code",
   "execution_count": null,
   "id": "3b9531bb",
   "metadata": {},
   "outputs": [],
   "source": [
    "plt.figure(figsize=(14,5))\n",
    "plt.plot(df.index, df['Volume'], label='Close Price')\n",
    "plt.title('Apple Stock - Close Price (10 anos)')\n",
    "plt.xlabel('Data')\n",
    "plt.ylabel('Preço (USD)')\n",
    "plt.legend()\n",
    "plt.grid(True)\n",
    "plt.show()"
   ]
  },
  {
   "cell_type": "markdown",
   "id": "48a9ef0e",
   "metadata": {},
   "source": [
    "## Colunas com valores faltando"
   ]
  },
  {
   "cell_type": "code",
   "execution_count": null,
   "id": "925b6d9e",
   "metadata": {},
   "outputs": [],
   "source": [
    "print(\"Valores faltantes por coluna:\\n\", df.isnull().sum())\n",
    "df.dropna()"
   ]
  },
  {
   "cell_type": "markdown",
   "id": "7f7cca96",
   "metadata": {},
   "source": [
    "### vamos ter que colocar um dropna, pois em algumas features, por exemplo, Momentum 5 as 4 primeiras linhas não tem significado, já que é impossível calcular o valor\n",
    "\n",
    "ARRUMAR TEXTO DEPOIS"
   ]
  },
  {
   "cell_type": "markdown",
   "id": "15d130e6",
   "metadata": {},
   "source": [
    "## Visualizando as features"
   ]
  },
  {
   "cell_type": "code",
   "execution_count": null,
   "id": "c9e1a193",
   "metadata": {},
   "outputs": [],
   "source": [
    "# Seleciona colunas numéricas (inclui Target) e plota histogramas em grid\n",
    "numeric_cols = df.select_dtypes(include=[np.number]).columns.tolist()\n",
    "\n",
    "# Configura grid de subplots\n",
    "n_cols = 4\n",
    "n_features = len(numeric_cols)\n",
    "n_rows = (n_features + n_cols - 1) // n_cols\n",
    "\n",
    "fig, axes = plt.subplots(n_rows, n_cols, figsize=(4 * n_cols, 3 * n_rows))\n",
    "axes = axes.flatten()\n",
    "\n",
    "for i, col in enumerate(numeric_cols):\n",
    "    ax = axes[i]\n",
    "    # remove NaNs antes de plotar\n",
    "    data = df[col].dropna()\n",
    "    if data.size == 0:\n",
    "        ax.text(0.5, 0.5, 'No data', ha='center', va='center')\n",
    "        ax.set_title(col)\n",
    "        ax.set_axis_off()\n",
    "        continue\n",
    "    sns.histplot(data, bins=50, kde=True, ax=ax, stat='density', color='tab:blue')\n",
    "    ax.set_title(col)\n",
    "    ax.set_xlabel('')\n",
    "    ax.set_ylabel('Density')\n",
    "\n",
    "# Desativa eixos extras se houver\n",
    "for j in range(n_features, len(axes)):\n",
    "    axes[j].set_visible(False)\n",
    "\n",
    "plt.tight_layout()\n",
    "plt.show()"
   ]
  },
  {
   "cell_type": "markdown",
   "id": "2963a4a1",
   "metadata": {},
   "source": [
    "# 3. Limpeza & Normalização"
   ]
  },
  {
   "cell_type": "markdown",
   "id": "8da66aea",
   "metadata": {},
   "source": [
    "### Abordagem: realizar um teste de hipótese e verificar normalidade de função, caso ela seja, utilizamos normalização z-score, caso não é min-max.\n",
    "\n",
    "### Teste de D'agostin e Pearson -> p-valor baixo: não normal (min-max) / p-valor alto: possivelmente normal, plotar histograma e vizualizar o caso"
   ]
  },
  {
   "cell_type": "code",
   "execution_count": null,
   "id": "386cfa73",
   "metadata": {},
   "outputs": [],
   "source": [
    "from scipy.stats import normaltest\n",
    "from sklearn.preprocessing import StandardScaler, MinMaxScaler\n",
    "import joblib\n",
    "import os\n",
    "\n",
    "def auto_scale_by_normality(df, train_ratio=0.8, alpha=0.05, target_col='Target', save_scalers=False, scalers_path='scalers'):\n",
    "    \"\"\"\n",
    "    Para cada coluna numérica:\n",
    "      - aplica D'Agostino-Pearson (normaltest) nos dados de treino (prefixo cronológico).\n",
    "      - se p >= alpha -> StandardScaler (z-score); caso contrário -> MinMaxScaler (0-1).\n",
    "    Retorna: df_scaled (com .dropna() aplicado), dict de scalers e dict com escolha por coluna.\n",
    "    \"\"\"\n",
    "    df_clean = df.copy().dropna()\n",
    "    numeric_cols = df_clean.select_dtypes(include=[np.number]).columns.tolist()\n",
    "\n",
    "    include_target = target_col in numeric_cols\n",
    "    if include_target:\n",
    "        # decide se quer normalizar o target; aqui incluímos por padrão\n",
    "        numeric_cols.remove(target_col)\n",
    "\n",
    "    n = len(df_clean)\n",
    "    train_len = max(int(n * train_ratio), 1)\n",
    "\n",
    "    scalers = {}\n",
    "    applied = {}\n",
    "\n",
    "    for col in numeric_cols + ([target_col] if include_target else []):\n",
    "        vals = df_clean[col].values.reshape(-1, 1)\n",
    "\n",
    "        # se poucos exemplos no treino, força MinMax\n",
    "        if train_len < 8:\n",
    "            scaler = MinMaxScaler(feature_range=(0, 1))\n",
    "            choice = 'minmax'\n",
    "            scaler.fit(vals)\n",
    "        else:\n",
    "            try:\n",
    "                stat, p = normaltest(vals[:train_len].ravel())\n",
    "            except Exception:\n",
    "                # se o teste falhar, assume não-normal\n",
    "                p = 0.0\n",
    "            if p >= alpha:\n",
    "                scaler = StandardScaler()\n",
    "                choice = 'zscore'\n",
    "                scaler.fit(vals[:train_len])\n",
    "            else:\n",
    "                scaler = MinMaxScaler(feature_range=(0, 1))\n",
    "                choice = 'minmax'\n",
    "                scaler.fit(vals[:train_len])\n",
    "\n",
    "        df_clean[col] = scaler.transform(vals).ravel()\n",
    "        scalers[col] = scaler\n",
    "        applied[col] = choice\n",
    "\n",
    "    if save_scalers:\n",
    "        os.makedirs(scalers_path, exist_ok=True)\n",
    "        for k, sc in scalers.items():\n",
    "            joblib.dump(sc, os.path.join(scalers_path, f'scaler_{k}.pkl'))\n",
    "\n",
    "    return df_clean, scalers, applied\n",
    "\n",
    "# Exemplo de uso: inserir após feature engineering e antes de modelagem\n",
    "df_scaled, scalers, applied = auto_scale_by_normality(df, train_ratio=0.8, alpha=0.05, target_col='Target', save_scalers=True)\n",
    "print(\"Normality-based scaler choices (sample):\")\n",
    "for k, v in list(applied.items())[:20]:\n",
    "    print(f\"  {k}: {v}\")\n",
    "\n",
    "# Plota comparação rápida de algumas features (orig vs scaled)\n",
    "cols = list(applied.keys())[:6]\n",
    "fig, axes = plt.subplots(len(cols), 2, figsize=(10, 3 * len(cols)))\n",
    "for i, c in enumerate(cols):\n",
    "    sns.histplot(df[c].dropna(), bins=50, kde=True, ax=axes[i, 0], color='tab:blue')\n",
    "    axes[i, 0].set_title(f\"{c} (orig)\")\n",
    "    sns.histplot(df_scaled[c].dropna(), bins=50, kde=True, ax=axes[i, 1], color='tab:orange')\n",
    "    axes[i, 1].set_title(f\"{c} (scaled: {applied[c]})\")\n",
    "plt.tight_layout()\n",
    "plt.show()"
   ]
  }
 ],
 "metadata": {
  "kernelspec": {
   "display_name": ".venv_deep",
   "language": "python",
   "name": "python3"
  },
  "language_info": {
   "codemirror_mode": {
    "name": "ipython",
    "version": 3
   },
   "file_extension": ".py",
   "mimetype": "text/x-python",
   "name": "python",
   "nbconvert_exporter": "python",
   "pygments_lexer": "ipython3",
   "version": "3.12.3"
  }
 },
 "nbformat": 4,
 "nbformat_minor": 5
}
